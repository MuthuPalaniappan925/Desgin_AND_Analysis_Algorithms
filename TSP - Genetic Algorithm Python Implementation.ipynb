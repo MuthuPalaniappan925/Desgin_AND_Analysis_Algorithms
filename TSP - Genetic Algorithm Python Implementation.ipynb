{
 "cells": [
  {
   "cell_type": "code",
   "execution_count": 129,
   "id": "2c91fa8d",
   "metadata": {},
   "outputs": [],
   "source": [
    "import numpy as np\n",
    "import random"
   ]
  },
  {
   "cell_type": "code",
   "execution_count": 130,
   "id": "d81c8aae",
   "metadata": {},
   "outputs": [],
   "source": [
    "cities = [0,1,2,3,4]\n",
    "cost_mat = np.asarray(\n",
    "    [\n",
    "        [0.00, 28.02, 17.12, 27.46, 46.07],\n",
    "        [28.02, 0.00, 34.00, 25.55, 25.55],\n",
    "        [17.12, 34.00, 0.00, 18.03, 57.38],\n",
    "        [27.46, 25.55, 18.03, 0.00, 51.11],\n",
    "        [46.07, 25.55, 57.38, 51.11, 0.00],\n",
    "    ]\n",
    ")"
   ]
  },
  {
   "cell_type": "code",
   "execution_count": 131,
   "id": "1c1ffe62",
   "metadata": {},
   "outputs": [],
   "source": [
    "class Population():\n",
    "    def __init__(self, bag, cost_mat):\n",
    "        self.bag = bag\n",
    "        self.parents = []\n",
    "        self.score = 0\n",
    "        self.best = None\n",
    "        self.cost_mat = cost_mat"
   ]
  },
  {
   "cell_type": "markdown",
   "id": "2c007155",
   "metadata": {},
   "source": [
    "- Bag : Represent the full population\n",
    "- Parents : Represent the choosen parents\n",
    "- Score : Best score of the chromosomes\n",
    "- best : Best Chromosomes\n",
    "- Cost_mat : The matrix which contains the cost of one cities to another"
   ]
  },
  {
   "cell_type": "markdown",
   "id": "68f6559f",
   "metadata": {},
   "source": [
    "### Generating the first generation of population"
   ]
  },
  {
   "cell_type": "code",
   "execution_count": 132,
   "id": "37aa0dd6",
   "metadata": {},
   "outputs": [],
   "source": [
    "def intial_population(cities,n_population,cost_mat):\n",
    "    return Population(\n",
    "        np.asarray([np.random.permutation(cities) for _ in range(n_population)]), \n",
    "        cost_mat\n",
    "    )"
   ]
  },
  {
   "cell_type": "markdown",
   "id": "b3019927",
   "metadata": {},
   "source": [
    "- random.permutation : Will return a random chromosomes"
   ]
  },
  {
   "cell_type": "code",
   "execution_count": 133,
   "id": "c343a47c",
   "metadata": {},
   "outputs": [
    {
     "data": {
      "text/plain": [
       "array([[1, 2, 3, 0, 4],\n",
       "       [3, 2, 4, 0, 1],\n",
       "       [0, 1, 4, 3, 2],\n",
       "       [2, 3, 0, 4, 1],\n",
       "       [4, 3, 2, 1, 0]])"
      ]
     },
     "execution_count": 133,
     "metadata": {},
     "output_type": "execute_result"
    }
   ],
   "source": [
    "population = intial_population(cities,5,cost_mat)\n",
    "population.bag"
   ]
  },
  {
   "cell_type": "markdown",
   "id": "e2c2b6b4",
   "metadata": {},
   "source": [
    "### Fitness Function"
   ]
  },
  {
   "cell_type": "markdown",
   "id": "21f3a5be",
   "metadata": {},
   "source": [
    "- In case of Travelling Sales Man Problem : Fitness Function will be the sum of cost for visiting.\n",
    "- Less the sum more the fitter chromosomes"
   ]
  },
  {
   "cell_type": "code",
   "execution_count": 134,
   "id": "9970cb1b",
   "metadata": {},
   "outputs": [],
   "source": [
    "def fitness(self,chromosome):\n",
    "    fitness_value = 0\n",
    "    for i in range(len(chromosome)-1):\n",
    "        fitness_value+=self.cost_mat[chromosome[i],chromosome[i+1]]\n",
    "    return fitness_value\n",
    "Population.fitness = fitness"
   ]
  },
  {
   "cell_type": "markdown",
   "id": "81afba38",
   "metadata": {},
   "source": [
    "- Adding the method fitness to the Population class"
   ]
  },
  {
   "cell_type": "markdown",
   "id": "0322fede",
   "metadata": {},
   "source": [
    "### Evaluate the population"
   ]
  },
  {
   "cell_type": "markdown",
   "id": "bc08c048",
   "metadata": {},
   "source": [
    "- Calculating the fitness of each chromosomes\n",
    "- Finding which is the best chromosome\n",
    "- Finding the best score"
   ]
  },
  {
   "cell_type": "code",
   "execution_count": 135,
   "id": "9c9c307b",
   "metadata": {},
   "outputs": [],
   "source": [
    "def evaluate(self):\n",
    "    distances = np.asarray([self.fitness(chromosome) for chromosome in self.bag])\n",
    "    self.score = min(distances)\n",
    "    self.best = self.bag[distances.tolist().index(self.score)]\n",
    "    self.parents.append(self.best)\n",
    "    if False in (distances[0] == distances):\n",
    "        distances = np.max(distances) - distances\n",
    "    return distances/np.sum(distances)\n",
    "Population.evaluate = evaluate"
   ]
  },
  {
   "cell_type": "markdown",
   "id": "00ffcae0",
   "metadata": {},
   "source": [
    "- Evaluate the probability of the selection\n",
    "- Added evaluate function to the class"
   ]
  },
  {
   "cell_type": "code",
   "execution_count": 136,
   "id": "9c419078",
   "metadata": {},
   "outputs": [
    {
     "data": {
      "text/plain": [
       "array([0.23595506, 0.        , 0.26404494, 0.31923911, 0.18076089])"
      ]
     },
     "execution_count": 136,
     "metadata": {},
     "output_type": "execute_result"
    }
   ],
   "source": [
    "population.evaluate()"
   ]
  },
  {
   "cell_type": "markdown",
   "id": "cf243edd",
   "metadata": {},
   "source": [
    "- Output are the probability vector as expected"
   ]
  },
  {
   "cell_type": "code",
   "execution_count": 137,
   "id": "b642bb2a",
   "metadata": {},
   "outputs": [
    {
     "data": {
      "text/plain": [
       "array([2, 3, 0, 4, 1])"
      ]
     },
     "execution_count": 137,
     "metadata": {},
     "output_type": "execute_result"
    }
   ],
   "source": [
    "population.best"
   ]
  },
  {
   "cell_type": "code",
   "execution_count": 138,
   "id": "19882db2",
   "metadata": {},
   "outputs": [
    {
     "name": "stdout",
     "output_type": "stream",
     "text": [
      "Best Chromosome : [2 3 0 4 1]\n",
      "Best Chromosome Fitness Score : 117.11\n"
     ]
    }
   ],
   "source": [
    "print(f'Best Chromosome : {population.best}\\nBest Chromosome Fitness Score : {population.score}')"
   ]
  },
  {
   "cell_type": "markdown",
   "id": "294bac79",
   "metadata": {},
   "source": [
    "- Scores represent the total distance a salesman has to travel to visit all the cities."
   ]
  },
  {
   "cell_type": "markdown",
   "id": "9d22f99a",
   "metadata": {},
   "source": [
    "### Parents Selection"
   ]
  },
  {
   "cell_type": "markdown",
   "id": "fc0f7c14",
   "metadata": {},
   "source": [
    "- Select k number of parents\n",
    "- Use a simple roulette model\n",
    "- If the value of the probability vector is higher,the corresponding chromosomes is added to parents.\n",
    "- Repeat the process for K parents"
   ]
  },
  {
   "cell_type": "code",
   "execution_count": 139,
   "id": "8e9f9fe3",
   "metadata": {},
   "outputs": [],
   "source": [
    "def parent_selection(self, k=4):\n",
    "    fit = self.evaluate()\n",
    "    while len(self.parents) < k:\n",
    "        idx = np.random.randint(0, len(fit))\n",
    "        if fit[idx] > np.random.rand():\n",
    "            self.parents.append(self.bag[idx])\n",
    "    self.parents = np.asarray(self.parents)\n",
    "\n",
    "Population.parent_selection = parent_selection"
   ]
  },
  {
   "cell_type": "code",
   "execution_count": 140,
   "id": "04275630",
   "metadata": {},
   "outputs": [],
   "source": [
    "population.parent_selection()"
   ]
  },
  {
   "cell_type": "code",
   "execution_count": 141,
   "id": "57fcc174",
   "metadata": {},
   "outputs": [
    {
     "data": {
      "text/plain": [
       "array([[2, 3, 0, 4, 1],\n",
       "       [2, 3, 0, 4, 1],\n",
       "       [4, 3, 2, 1, 0],\n",
       "       [0, 1, 4, 3, 2]])"
      ]
     },
     "execution_count": 141,
     "metadata": {},
     "output_type": "execute_result"
    }
   ],
   "source": [
    "population.parents"
   ]
  },
  {
   "cell_type": "markdown",
   "id": "27d61457",
   "metadata": {},
   "source": [
    "- We get 4 Parents"
   ]
  },
  {
   "cell_type": "markdown",
   "id": "ff21f6ff",
   "metadata": {},
   "source": [
    "### Genetic Operators"
   ]
  },
  {
   "cell_type": "markdown",
   "id": "ce12337b",
   "metadata": {},
   "source": [
    "- Crossover : A random point is selected nd then the tails of the parents is swapped\n",
    "- Mutation : A small random tweak in the chromosomes"
   ]
  },
  {
   "cell_type": "markdown",
   "id": "ec1626fd",
   "metadata": {},
   "source": [
    "##### Crossover - Operation"
   ]
  },
  {
   "cell_type": "markdown",
   "id": "57ad5485",
   "metadata": {},
   "source": [
    "- p_cross -- threshold for crossover operation"
   ]
  },
  {
   "cell_type": "code",
   "execution_count": 142,
   "id": "23311e03",
   "metadata": {},
   "outputs": [],
   "source": [
    "def crossover(self, p_cross=0.1):\n",
    "    children = []\n",
    "    count, size = self.parents.shape\n",
    "    for _ in range(len(self.bag)):\n",
    "        if np.random.rand() > p_cross:\n",
    "            children.append(\n",
    "                list(self.parents[np.random.randint(count, size=1)[0]])\n",
    "            )\n",
    "        else:\n",
    "            parent1, parent2 = self.parents[\n",
    "                np.random.randint(count, size=2), :\n",
    "            ]\n",
    "            idx = np.random.choice(range(size), size=2, replace=False)\n",
    "            start, end = min(idx), max(idx)\n",
    "            child = [None] * size\n",
    "            for i in range(start, end + 1, 1):\n",
    "                child[i] = parent1[i]\n",
    "            pointer = 0\n",
    "            for i in range(size):\n",
    "                if child[i] is None:\n",
    "                    while parent2[pointer] in child:\n",
    "                        pointer += 1\n",
    "                    child[i] = parent2[pointer]\n",
    "            children.append(child)\n",
    "    return children\n",
    "\n",
    "Population.crossover = crossover"
   ]
  },
  {
   "cell_type": "markdown",
   "id": "02662ea6",
   "metadata": {},
   "source": [
    "##### Mutation - Operation"
   ]
  },
  {
   "cell_type": "code",
   "execution_count": 143,
   "id": "e0fdc22b",
   "metadata": {},
   "outputs": [],
   "source": [
    "def swap(chromosome):\n",
    "    a, b = np.random.choice(len(chromosome), 2)\n",
    "    chromosome[a], chromosome[b] = (chromosome[b],chromosome[a],)\n",
    "    return chromosome"
   ]
  },
  {
   "cell_type": "code",
   "execution_count": 144,
   "id": "0c090ef7",
   "metadata": {},
   "outputs": [],
   "source": [
    "def mutate(self, p_cross=0.1, p_mut=0.1):\n",
    "    next_bag = []\n",
    "    children = self.crossover(p_cross)\n",
    "    for child in children:\n",
    "        if np.random.rand() < p_mut:\n",
    "            next_bag.append(swap(child))\n",
    "        else:\n",
    "            next_bag.append(child)\n",
    "    return next_bag\n",
    "    \n",
    "Population.mutate = mutate"
   ]
  },
  {
   "cell_type": "code",
   "execution_count": 145,
   "id": "3a8fc9d1",
   "metadata": {},
   "outputs": [
    {
     "data": {
      "text/plain": [
       "[[0, 1, 4, 3, 2],\n",
       " [0, 4, 1, 3, 2],\n",
       " [2, 3, 0, 4, 1],\n",
       " [2, 3, 0, 4, 1],\n",
       " [0, 1, 4, 3, 2]]"
      ]
     },
     "execution_count": 145,
     "metadata": {},
     "output_type": "execute_result"
    }
   ],
   "source": [
    "population.mutate()"
   ]
  },
  {
   "cell_type": "markdown",
   "id": "ed6b7345",
   "metadata": {},
   "source": [
    "### Genetic Algorithm - One Shot"
   ]
  },
  {
   "cell_type": "code",
   "execution_count": 146,
   "id": "d492fa15",
   "metadata": {},
   "outputs": [],
   "source": [
    "def genetic_algorithm(cities,cost_mat,n_population=5,n_iter=20,selectivity=0.15,p_cross=0.5,p_mut=0.1,print_interval=100,return_history=False,verbose=False,):\n",
    "    population = intial_population(cities,n_population,cost_mat)\n",
    "    best = population.best\n",
    "    score = float(\"inf\")\n",
    "    history = []\n",
    "    for i in range(n_iter):\n",
    "        population.parent_selection(n_population * selectivity)\n",
    "        history.append(population.score)\n",
    "        if verbose:\n",
    "            print(f\"Generation {i}: {population.score}\")\n",
    "        elif i % print_interval == 0:\n",
    "            print(f\"Generation {i}: {population.score}\")\n",
    "        if population.score < score:\n",
    "            best = population.best\n",
    "            score = population.score\n",
    "        children = population.mutate(p_cross, p_mut)\n",
    "        population = Population(children, population.cost_mat)\n",
    "    if return_history:\n",
    "        return best, history\n",
    "    return best"
   ]
  },
  {
   "cell_type": "code",
   "execution_count": 147,
   "id": "fb6b1a67",
   "metadata": {
    "scrolled": true
   },
   "outputs": [
    {
     "name": "stdout",
     "output_type": "stream",
     "text": [
      "Generation 0: 88.72\n",
      "Generation 1: 88.72\n",
      "Generation 2: 88.72\n",
      "Generation 3: 88.72\n",
      "Generation 4: 88.72\n",
      "Generation 5: 88.72\n",
      "Generation 6: 88.72\n",
      "Generation 7: 88.72\n",
      "Generation 8: 88.72\n",
      "Generation 9: 88.72\n",
      "Generation 10: 88.72\n",
      "Generation 11: 88.72\n",
      "Generation 12: 88.72\n",
      "Generation 13: 88.72\n",
      "Generation 14: 88.72\n",
      "Generation 15: 88.72\n",
      "Generation 16: 86.25\n",
      "Generation 17: 86.25\n",
      "Generation 18: 86.25\n",
      "Generation 19: 86.25\n"
     ]
    },
    {
     "data": {
      "text/plain": [
       "[4, 1, 3, 2, 0]"
      ]
     },
     "execution_count": 147,
     "metadata": {},
     "output_type": "execute_result"
    }
   ],
   "source": [
    "genetic_algorithm(cities,cost_mat,verbose=True)"
   ]
  },
  {
   "cell_type": "markdown",
   "id": "2ee582a4",
   "metadata": {},
   "source": [
    "- print_interval : Specifies the range of printing values"
   ]
  },
  {
   "cell_type": "markdown",
   "id": "f2f76677",
   "metadata": {},
   "source": [
    "### Progress of Genetic Algorithm - TSP"
   ]
  },
  {
   "cell_type": "code",
   "execution_count": 154,
   "id": "5002add4",
   "metadata": {},
   "outputs": [
    {
     "name": "stdout",
     "output_type": "stream",
     "text": [
      "Generation 0: 105.03999999999999\n",
      "Generation 20: 86.25\n",
      "Generation 40: 86.25\n",
      "Generation 60: 86.25\n",
      "Generation 80: 86.25\n",
      "Generation 100: 86.25\n",
      "Generation 120: 86.25\n",
      "Generation 140: 86.25\n",
      "Generation 160: 86.25\n",
      "Generation 180: 86.25\n"
     ]
    },
    {
     "data": {
      "image/png": "[encoded data removed]",
      "text/plain": [
       "<Figure size 432x288 with 1 Axes>"
      ]
     },
     "metadata": {
      "needs_background": "light"
     },
     "output_type": "display_data"
    },
    {
     "name": "stdout",
     "output_type": "stream",
     "text": [
      "Best Chromosome : [4, 1, 3, 2, 0]\n"
     ]
    }
   ],
   "source": [
    "best,history = genetic_algorithm(cities,cost_mat,n_iter=200,verbose=False,print_interval=20,return_history=True)\n",
    "plt.plot(range(len(history)), history, color=\"skyblue\")\n",
    "plt.xlabel('Generation')\n",
    "plt.ylabel('Score')\n",
    "plt.show()\n",
    "print(f'Best Chromosome : {best}')"
   ]
  },
  {
   "cell_type": "code",
   "execution_count": null,
   "id": "85e6c34a",
   "metadata": {},
   "outputs": [],
   "source": []
  }
 ],
 "metadata": {
  "kernelspec": {
   "display_name": "Python 3 (ipykernel)",
   "language": "python",
   "name": "python3"
  },
  "language_info": {
   "codemirror_mode": {
    "name": "ipython",
    "version": 3
   },
   "file_extension": ".py",
   "mimetype": "text/x-python",
   "name": "python",
   "nbconvert_exporter": "python",
   "pygments_lexer": "ipython3",
   "version": "3.9.12"
  }
 },
 "nbformat": 4,
 "nbformat_minor": 5
}
